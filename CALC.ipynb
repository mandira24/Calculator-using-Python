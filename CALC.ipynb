from tkinter import *
from math import factorial
root=Tk()
root.title("calculator")

display=Entry(root,width=100)
display.grid(row=0,columnspan=4)


c=0
def getVal(num):
    global c
    display.insert(c,num)
    c=c+1
def getop(stri):
    global c
    display.insert(c,stri)
    c=c+1

def undo():
    a=display.get()
    l=len(a)
    b=a[:l-1]
    display.delete(0,END)
    display.insert(0,b)
    
def allclear():
    display.delete(0,END)
    
def fact():
    d=display.get()
    try:
        t=factorial(int(d))
        display.delete(0,END)
        display.insert(0,t)
    except Exception:
        display.delete(0,END)
        display.insert(0,"Error")
def fibo():
    n=display.get()
    n=int(n)
    try:
        a=0
        b=1
        if n < 0: 
            display.delete(0,END)
            display.insert(0,"provide positive number")
        elif n == 0: 
            display.delete(0,END)
            display.insert(0,a) 
        elif n == 1: 
            display.delete(0,END)
            display.insert(0,b) 
        else: 
            for i in range(2,n+1): 
                c = a + b 
                a = b 
                b = c 
            display.delete(0,END)
            display.insert(0,c) 
    except Exception:
        display.delete(0,END)
        display.insert(0,"Error")
  
def result():
    p=display.get()
    try:
        result = str(eval(p))
        display.delete(0,END)
        display.insert(0,result)
    except Exception:
        display.delete(0,END)
        display.insert(0,"Error")
    

Button(root,text='1',command=lambda: getVal(1)).grid(row=1,column=0,sticky=N+S+E+W)
Button(root,text='2',command=lambda : getVal(2)).grid(row=1,column=1,sticky=N+S+E+W)
Button(root,text='3',command=lambda : getVal(3)).grid(row=1,column=2,sticky=N+S+E+W)
Button(root,text='4',command=lambda : getVal(4)).grid(row=2,column=0,sticky=N+S+E+W)
Button(root,text='5',command=lambda : getVal(5)).grid(row=2,column=1,sticky=N+S+E+W)
Button(root,text='6',command=lambda : getVal(6)).grid(row=2,column=2,sticky=N+S+E+W)
Button(root,text='7',command=lambda : getVal(7)).grid(row=3,column=0,sticky=N+S+E+W)
Button(root,text='8',command=lambda : getVal(8)).grid(row=3,column=1,sticky=N+S+E+W)
Button(root,text='9',command=lambda : getVal(9)).grid(row=3,column=2,sticky=N+S+E+W)
Button(root,text='0',command=lambda : getVal(0)).grid(row=4,column=0,sticky=N+S+E+W)
Button(root,text='.',command=lambda : getVal('.')).grid(row=4,column=1,sticky=N+S+E+W)

Button(root,text='+',command=lambda : getop('+')).grid(row=2,column=3,sticky=N+S+E+W)
Button(root,text='-',command=lambda : getop('-')).grid(row=3,column=3,sticky=N+S+E+W)
Button(root,text='x',command=lambda : getop('*')).grid(row=4,column=3,sticky=N+S+E+W)
Button(root,text='/',command=lambda : getop('/')).grid(row=5,column=3,sticky=N+S+E+W)
Button(root,text='(',command=lambda : getop('(')).grid(row=6,column=0,sticky=N+S+E+W)
Button(root,text=')',command=lambda : getop(')')).grid(row=6,column=1,sticky=N+S+E+W)
Button(root,text='sqroot',command=lambda : getop('**(1/2)')).grid(row=6,column=2,sticky=N+S+E+W)
Button(root,text='AC',command=allclear).grid(row=6,column=3,sticky=N+S+E+W)
Button(root,text='fibo',command=fibo).grid(row=5,column=1,sticky=N+S+E+W)



Button(root,text='C',command=undo).grid(row=1,column=3,sticky=N+S+E+W)
Button(root,text='fact',command=fact).grid(row=5,column=0,sticky=N+S+E+W)
Button(root,text='=',command=result).grid(row=4,column=2,sticky=N+S+E+W)
Button(root,text='^2',command=lambda : getop('**2')).grid(row=5,column=2,sticky=N+S+E+W)





root.mainloop()
